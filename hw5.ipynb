{
  "nbformat": 4,
  "nbformat_minor": 0,
  "metadata": {
    "colab": {
      "provenance": []
    },
    "kernelspec": {
      "name": "python3",
      "display_name": "Python 3"
    },
    "language_info": {
      "name": "python"
    }
  },
  "cells": [
    {
      "cell_type": "code",
      "execution_count": null,
      "metadata": {
        "colab": {
          "base_uri": "https://localhost:8080/"
        },
        "id": "-LxPTVGZZJ-_",
        "outputId": "4a8e3f32-debc-43f2-df68-2c63c39b8a6b"
      },
      "outputs": [
        {
          "metadata": {
            "tags": null
          },
          "name": "stdout",
          "output_type": "stream",
          "text": [
            "   Time        V1        V2        V3        V4        V5        V6        V7  \\\n",
            "0   0.0 -1.359807 -0.072781  2.536347  1.378155 -0.338321  0.462388  0.239599   \n",
            "1   0.0  1.191857  0.266151  0.166480  0.448154  0.060018 -0.082361 -0.078803   \n",
            "2   1.0 -1.358354 -1.340163  1.773209  0.379780 -0.503198  1.800499  0.791461   \n",
            "3   1.0 -0.966272 -0.185226  1.792993 -0.863291 -0.010309  1.247203  0.237609   \n",
            "4   2.0 -1.158233  0.877737  1.548718  0.403034 -0.407193  0.095921  0.592941   \n",
            "\n",
            "         V8        V9  ...       V21       V22       V23       V24       V25  \\\n",
            "0  0.098698  0.363787  ... -0.018307  0.277838 -0.110474  0.066928  0.128539   \n",
            "1  0.085102 -0.255425  ... -0.225775 -0.638672  0.101288 -0.339846  0.167170   \n",
            "2  0.247676 -1.514654  ...  0.247998  0.771679  0.909412 -0.689281 -0.327642   \n",
            "3  0.377436 -1.387024  ... -0.108300  0.005274 -0.190321 -1.175575  0.647376   \n",
            "4 -0.270533  0.817739  ... -0.009431  0.798278 -0.137458  0.141267 -0.206010   \n",
            "\n",
            "        V26       V27       V28  Amount  Class  \n",
            "0 -0.189115  0.133558 -0.021053  149.62      0  \n",
            "1  0.125895 -0.008983  0.014724    2.69      0  \n",
            "2 -0.139097 -0.055353 -0.059752  378.66      0  \n",
            "3 -0.221929  0.062723  0.061458  123.50      0  \n",
            "4  0.502292  0.219422  0.215153   69.99      0  \n",
            "\n",
            "[5 rows x 31 columns]\n"
          ]
        },
        {
          "metadata": {
            "tags": null
          },
          "name": "stderr",
          "output_type": "stream",
          "text": [
            "/usr/local/lib/python3.10/dist-packages/sklearn/cluster/_kmeans.py:870: FutureWarning: The default value of `n_init` will change from 10 to 'auto' in 1.4. Set the value of `n_init` explicitly to suppress the warning\n",
            "  warnings.warn(\n"
          ]
        }
      ],
      "source": [
        "import pandas as pd\n",
        "import seaborn as sns\n",
        "from sklearn.metrics import confusion_matrix\n",
        "# Load the dataset\n",
        "data = pd.read_csv('creditcard.csv')\n",
        "\n",
        "# Examine the dataset\n",
        "print(data.head())\n",
        "# Drop rows with missing values\n",
        "data_clean = data.dropna()\n",
        "\n",
        "# Now, you can proceed with K-Means clustering on 'data_clean'\n",
        "\n",
        "\n",
        "from sklearn.cluster import KMeans\n",
        "\n",
        "# Define the number of clusters (you can choose based on your analysis)\n",
        "n_clusters = 2\n",
        "\n",
        "# Create a K-Means model\n",
        "kmeans = KMeans(n_clusters=n_clusters, random_state=0)\n",
        "\n",
        "# Fit the model to the data\n",
        "kmeans.fit(data_clean)\n",
        "\n",
        "# Assign cluster labels to the data points\n",
        "data_clean['Cluster'] = kmeans.labels_\n",
        "\n",
        "\n",
        "# Analyze cluster characteristics\n",
        "cluster_centers = kmeans.cluster_centers_\n",
        "\n",
        "# You can visualize the clusters or calculate cluster statistics here.\n",
        "\n",
        "from sklearn.model_selection import train_test_split\n",
        "from sklearn.svm import SVC\n",
        "from sklearn.metrics import accuracy_score, classification_report\n",
        "\n",
        "# Split the data into train and test sets\n",
        "X = data_clean.drop(['Class', 'Cluster'], axis=1)\n",
        "y = data_clean['Class']\n",
        "\n",
        "X_train, X_test, y_train, y_test = train_test_split(X, y, test_size=0.2, random_state=0)\n",
        "\n",
        "# Create and train an SVM classifier\n",
        "svm_classifier = SVC(kernel='linear', random_state=0)\n",
        "svm_classifier.fit(X_train, y_train)\n",
        "\n",
        "# Make predictions\n",
        "y_pred = svm_classifier.predict(X_test)\n",
        "\n",
        "# Evaluate accuracy and other classification metrics\n",
        "accuracy = accuracy_score(y_test, y_pred)\n",
        "report = classification_report(y_test, y_pred)\n",
        "\n",
        "print(f\"Accuracy: {accuracy}\")\n",
        "print(\"Classification Report:\\n\", report)\n",
        "\n"
      ]
    },
    {
      "cell_type": "code",
      "source": [
        "data_clean.shape"
      ],
      "metadata": {
        "id": "1rgWzhS8a5BE"
      },
      "execution_count": null,
      "outputs": []
    },
    {
      "cell_type": "code",
      "source": [
        "# Basic summary statistics\n",
        "summary_stats = data.describe()\n",
        "\n",
        "# Count of unique values for categorical features\n",
        "unique_counts = data.select_dtypes(include=['object']).nunique()\n",
        "\n",
        "# Data distribution histograms\n",
        "import matplotlib.pyplot as plt\n",
        "data.hist(figsize=(20, 14))\n",
        "plt.show()\n",
        "\n",
        "# Bar plot for a categorical feature\n",
        "data['categorical_feature'].value_counts().plot(kind='bar')\n",
        "plt.xlabel('Category')\n",
        "plt.ylabel('Count')\n",
        "plt.title('Distribution of Categorical Feature')\n",
        "plt.show()\n"
      ],
      "metadata": {
        "id": "d5MmDBqUqD8c"
      },
      "execution_count": null,
      "outputs": []
    },
    {
      "cell_type": "code",
      "source": [
        "# Correlation matrix and heatmap\n",
        "correlation_matrix = data.corr()\n",
        "import seaborn as sns\n",
        "plt.figure(figsize=(30, 30))\n",
        "sns.heatmap(correlation_matrix, annot=True, cmap='coolwarm')\n",
        "plt.title('Correlation Heatmap')\n",
        "plt.show()\n",
        "\n",
        "\n"
      ],
      "metadata": {
        "id": "gvmn_bF_qD45"
      },
      "execution_count": null,
      "outputs": []
    },
    {
      "cell_type": "code",
      "source": [
        "# Box plot for outlier detection\n",
        "plt.boxplot(data.iloc[: , 0:-1])\n",
        "plt.xlabel('Feature')\n",
        "plt.ylabel('Value')\n",
        "plt.title('Box Plot for Numerical Feature')\n",
        "plt.show()\n"
      ],
      "metadata": {
        "id": "SogZL95vqD3K"
      },
      "execution_count": null,
      "outputs": []
    },
    {
      "cell_type": "code",
      "source": [
        "# Visualize missing values\n",
        "import missingno as msno\n",
        "msno.matrix(data)\n",
        "plt.title('Missing Value Matrix')\n",
        "plt.show()\n"
      ],
      "metadata": {
        "id": "4n7N_4rqqD1I"
      },
      "execution_count": null,
      "outputs": []
    },
    {
      "cell_type": "code",
      "source": [
        "# Create summary tables with descriptive statistics\n",
        "summary_table_numeric = data.describe()\n",
        "print(summary_table_numeric)\n"
      ],
      "metadata": {
        "id": "JUKXebbRqDvJ"
      },
      "execution_count": null,
      "outputs": []
    },
    {
      "cell_type": "code",
      "source": [],
      "metadata": {
        "id": "BPE6L2yEqDtH"
      },
      "execution_count": null,
      "outputs": []
    },
    {
      "cell_type": "code",
      "source": [],
      "metadata": {
        "id": "EEY6bLSUqDq7"
      },
      "execution_count": null,
      "outputs": []
    },
    {
      "cell_type": "code",
      "source": [],
      "metadata": {
        "id": "WVcR_ZAoqDpC"
      },
      "execution_count": null,
      "outputs": []
    },
    {
      "cell_type": "code",
      "source": [],
      "metadata": {
        "id": "wwHj9hG0qDnJ"
      },
      "execution_count": null,
      "outputs": []
    },
    {
      "cell_type": "code",
      "source": [],
      "metadata": {
        "id": "GO4rSXacqDlG"
      },
      "execution_count": null,
      "outputs": []
    },
    {
      "cell_type": "code",
      "source": [],
      "metadata": {
        "id": "3nzI3zJ1qDi0"
      },
      "execution_count": null,
      "outputs": []
    },
    {
      "cell_type": "code",
      "source": [],
      "metadata": {
        "id": "6ffgV4eNqDg0"
      },
      "execution_count": null,
      "outputs": []
    },
    {
      "cell_type": "code",
      "source": [],
      "metadata": {
        "id": "fduSHLzQqDey"
      },
      "execution_count": null,
      "outputs": []
    },
    {
      "cell_type": "code",
      "source": [],
      "metadata": {
        "id": "p7PcRcDpqDUC"
      },
      "execution_count": null,
      "outputs": []
    }
  ]
}